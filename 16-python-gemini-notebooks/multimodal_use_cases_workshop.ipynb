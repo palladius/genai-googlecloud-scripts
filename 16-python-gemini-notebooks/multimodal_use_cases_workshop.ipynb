version https://git-lfs.github.com/spec/v1
oid sha256:e75b8861e1dd3c1781c1a698716ea987dccc98bcfe5831dae8e51d2c9c20e90b
size 39683
